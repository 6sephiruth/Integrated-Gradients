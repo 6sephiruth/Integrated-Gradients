{
 "cells": [
  {
   "cell_type": "code",
   "execution_count": 3,
   "metadata": {
    "collapsed": false
   },
   "outputs": [],
   "source": [
    "import numpy as np\n",
    "import PIL.Image\n",
    "import tensorflow as tf\n",
    "\n",
    "from cStringIO import StringIO\n",
    "from IPython.display import  Image, display, HTML"
   ]
  },
  {
   "cell_type": "code",
   "execution_count": 5,
   "metadata": {
    "collapsed": true
   },
   "outputs": [],
   "source": [
    "MODEL_LOC='./InceptionModel/tensorflow_inception_graph.pb'\n",
    "LABELS_LOC='./InceptionModel/imagenet_comp_graph_label_strings.txt'\n",
    "def load_model():\n",
    "  '''Loads the Inception (v1) model and creates a TensorFlow session\n",
    "     for it.\n",
    "  '''\n",
    "  graph = tf.Graph()\n",
    "  cfg = tf.ConfigProto(gpu_options={'allow_growth':True})\n",
    "  sess = tf.InteractiveSession(graph=graph, config=cfg)\n",
    "  graph_def = tf.GraphDef.FromString(open(MODEL_LOC).read())\n",
    "  tf.import_graph_def(graph_def)\n",
    "  return sess, graph\n",
    "\n",
    "def T(layer):\n",
    "  '''Helper for getting layer output tensor'''\n",
    "  return graph.get_tensor_by_name(\"import/%s:0\"%layer)\n",
    "\n",
    "def run_network(sess, tensor, images):\n",
    "  '''Helper for evaluating a tensor on a bunch of images\n",
    "     within a session.\n",
    "  '''\n",
    "  imagenet_mean = 117.0\n",
    "  return sess.run(tensor, {'import/input:0': [img - imagenet_mean for img in images]})\n",
    "\n",
    "def top_label_and_score(img):\n",
    "  '''Returns the label and score of the object class\n",
    "     that receives the highest SOFTMAX score.\n",
    "\n",
    "     The provided image must of shape (224, 224, 3)\n",
    "  '''\n",
    "  # Evaluate the SOFTMAX output layer for the image and\n",
    "  # determine the label for the highest-scoring class\n",
    "  t_softmax = tf.reduce_mean(T('softmax2'), reduction_indices=0)\n",
    "  scores = run_network(sess, t_softmax, [img])\n",
    "  id = np.argmax(scores)\n",
    "  return labels[id], scores[id]\n",
    "\n",
    "def output_label_tensor(label):\n",
    "  '''Returns a tensor (shape: scalar) representing the SOFTMAX\n",
    "     for a given label.\n",
    "  '''\n",
    "  lab_index = np.where(np.in1d(labels, [label]))[0][0]\n",
    "  t_softmax = tf.reduce_mean(T('softmax2'), reduction_indices=0)\n",
    "  return t_softmax[lab_index]\n",
    "\n",
    "def gradients(img, label):\n",
    "  '''Returns attributions for the prediction label based\n",
    "     on just the gradients at the image.\n",
    "\n",
    "     Specifically, the method returns the dot product of the image\n",
    "     and the gradients of the provided prediction label (w.r.t. the\n",
    "     image).\n",
    "\n",
    "     The provided image must of shape (224, 224, 3), which is\n",
    "     also the shape of the returned attributions tensor.\n",
    "  '''\n",
    "  t_output = output_label_tensor(label)  # shape: scalar\n",
    "  t_grad = tf.gradients(t_output, T('input'))[0]\n",
    "  grads = run_network(sess, t_grad, [img])\n",
    "  return img*grads[0]\n",
    "\n",
    "def integrated_gradients(img, label, steps=50):\n",
    "  '''Returns attributions for the prediction label based\n",
    "     on integrated gradients at the image.\n",
    "\n",
    "     Specifically, the method returns the dot product of the image\n",
    "     and the average of the gradients of the prediction label (w.r.t.\n",
    "     the image) at uniformly spaced scalings of the provided image.\n",
    "\n",
    "     The provided image must of shape (224, 224, 3), which is\n",
    "     also the shape of the returned attributions tensor.\n",
    "  '''\n",
    "  t_output = output_label_tensor(label)  # shape: scalar\n",
    "  t_grad = tf.gradients(t_output, T('input'))[0]\n",
    "  scaled_images = [(float(i)/steps)*img for i in range(1, steps+1)]\n",
    "  # Compute the gradients of the scaled images\n",
    "  grads = run_network(sess, t_grad, scaled_images)\n",
    "  return img*np.average(grads, axis=0)\n",
    "\n",
    "def pil_img(a):\n",
    "  '''Returns a PIL image created from the provided RGB array.\n",
    "  '''\n",
    "  a = np.uint8(a)\n",
    "  return PIL.Image.fromarray(a)\n",
    "\n",
    "def show_img(img, fmt='jpeg'):\n",
    "  '''Displays the provided RGB image\n",
    "  '''\n",
    "  f = StringIO()\n",
    "  img.save(f, fmt)\n",
    "  display(Image(data=f.getvalue()))\n",
    "\n",
    "def visualize_attrs(img, attrs, ptile=99):\n",
    "   '''Visaualizes the provided attributions by first aggregating them\n",
    "      along the color channel to obtain per-pixel attributions and then\n",
    "      scaling the intensities of the pixels in the original image in\n",
    "      proportion to these attributions.\n",
    "\n",
    "      The provided image and attributions must of shape (224, 224, 3).\n",
    "   '''\n",
    "   pixel_attrs = np.sum(np.abs(attrs), axis=2)\n",
    "   pixel_attrs = np.clip(pixel_attrs/np.percentile(pixel_attrs, ptile), 0,1)\n",
    "   vis = img*np.transpose([pixel_attrs, pixel_attrs, pixel_attrs], axes=[1,2,0])\n",
    "   show_img(pil_img(vis))"
   ]
  },
  {
   "cell_type": "code",
   "execution_count": 8,
   "metadata": {
    "collapsed": false
   },
   "outputs": [
    {
     "data": {
      "image/jpeg": "[encoded data removed]",
      "text/plain": [
       "<IPython.core.display.Image object>"
      ]
     },
     "metadata": {},
     "output_type": "display_data"
    }
   ],
   "source": [
    "# Load the Inception model.\n",
    "sess, graph = load_model()\n",
    "\n",
    "# Load the labels vocabulary.\n",
    "labels = np.array(open(LABELS_LOC).read().split('\\n'))\n",
    "\n",
    "# Load the image.\n",
    "with open('./Images/70bfca4555cca92e.jpg') as f:\n",
    "  img = f.read()\n",
    "  img = sess.run(tf.image.decode_jpeg(img))\n",
    "show_img(pil_img(img))"
   ]
  },
  {
   "cell_type": "code",
   "execution_count": 11,
   "metadata": {
    "collapsed": false
   },
   "outputs": [
    {
     "name": "stdout",
     "output_type": "stream",
     "text": [
      "Top label: fireboat, score: 0.999984\n",
      "Gradients at the Image\n"
     ]
    },
    {
     "data": {
      "image/jpeg": "[encoded data removed]",
      "text/plain": [
       "<IPython.core.display.Image object>"
      ]
     },
     "metadata": {},
     "output_type": "display_data"
    },
    {
     "name": "stdout",
     "output_type": "stream",
     "text": [
      "Integrated gradients\n"
     ]
    },
    {
     "data": {
      "image/jpeg": "[encoded data removed]",
      "text/plain": [
       "<IPython.core.display.Image object>"
      ]
     },
     "metadata": {},
     "output_type": "display_data"
    }
   ],
   "source": [
    "# Determine top label and score.\n",
    "top_label, score = top_label_and_score(img)\n",
    "print \"Top label: %s, score: %f\" % (top_label, score)\n",
    "\n",
    "# Compute attributions based on just the gradients.\n",
    "grads_attrs = gradients(img, top_label)\n",
    "print \"Gradients at the Image\"\n",
    "visualize_attrs(img, grads_attrs)\n",
    "\n",
    "# Compute attributions based on the integrated gradients\n",
    "# method.\n",
    "intgrads_attrs = integrated_gradients(img, top_label)\n",
    "print \"Integrated gradients\"\n",
    "visualize_attrs(img, intgrads_attrs)"
   ]
  }
 ],
 "metadata": {
  "kernelspec": {
   "display_name": "Python 2",
   "language": "python",
   "name": "python2"
  },
  "language_info": {
   "codemirror_mode": {
    "name": "ipython",
    "version": 2
   },
   "file_extension": ".py",
   "mimetype": "text/x-python",
   "name": "python",
   "nbconvert_exporter": "python",
   "pygments_lexer": "ipython2",
   "version": "2.7.10"
  }
 },
 "nbformat": 4,
 "nbformat_minor": 2
}
